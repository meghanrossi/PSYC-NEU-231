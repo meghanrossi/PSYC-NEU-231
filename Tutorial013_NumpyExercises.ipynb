{
 "cells": [
  {
   "cell_type": "markdown",
   "metadata": {},
   "source": [
    "## EXERCISES\n",
    "\n",
    "### Vector Multiplication\n",
    "1. Produce 2 vectors, one with integers in the range [5,10] and the other [15,20] using the np.arange function\n",
    "1. Without using any functions from the numpy module\n",
    "    1. Compute the outer product of those vectors \n",
    "    1. Compute the \"trace\" of the resulting matrix\n",
    "    \n",
    "    ![trace](https://wikimedia.org/api/rest_v1/media/math/render/svg/3e5b6e82272fc5eeca6d510388e0a2bd0a6c6463)\n",
    "    \n",
    "    \n",
    "Complete the same items using numpy operations"
   ]
  },
  {
   "cell_type": "code",
   "execution_count": 1,
   "metadata": {},
   "outputs": [
    {
     "name": "stdout",
     "output_type": "stream",
     "text": [
      "Outer Product:\n"
     ]
    },
    {
     "data": {
      "text/plain": [
       "[[75, 80, 85, 90, 95, 100],\n",
       " [90, 96, 102, 108, 114, 120],\n",
       " [105, 112, 119, 126, 133, 140],\n",
       " [120, 128, 136, 144, 152, 160],\n",
       " [135, 144, 153, 162, 171, 180],\n",
       " [150, 160, 170, 180, 190, 200]]"
      ]
     },
     "execution_count": 1,
     "metadata": {},
     "output_type": "execute_result"
    }
   ],
   "source": [
    "import numpy as np\n",
    "\n",
    "hotmess = np.arange(5,11,1)\n",
    "hotmess2 = np.arange(15,21,1)\n",
    " \n",
    "hotouterprod = []\n",
    "assert len(hotmess) == len(hotmess2)\n",
    "for i in range(len(hotmess)):\n",
    "    row = []\n",
    "    for j in range(len(hotmess2)):\n",
    "        row.append(hotmess[i]*hotmess2[j])\n",
    "        \n",
    "    hotouterprod.append(row)\n",
    "\n",
    "print('Outer Product:')\n",
    "hotouterprod"
   ]
  },
  {
   "cell_type": "code",
   "execution_count": 2,
   "metadata": {},
   "outputs": [
    {
     "name": "stdout",
     "output_type": "stream",
     "text": [
      "[75, 96, 119, 144, 171, 200]\n",
      "805\n"
     ]
    }
   ],
   "source": [
    "trace_array = []\n",
    "\n",
    "for i in range(len(hotouterprod)):\n",
    "    trace_array.append(hotouterprod[i][i])\n",
    "    \n",
    "print(trace_array)\n",
    "print(sum(trace_array))"
   ]
  },
  {
   "cell_type": "code",
   "execution_count": 3,
   "metadata": {},
   "outputs": [
    {
     "name": "stdout",
     "output_type": "stream",
     "text": [
      "outer product:  [[ 75  80  85  90  95 100]\n",
      " [ 90  96 102 108 114 120]\n",
      " [105 112 119 126 133 140]\n",
      " [120 128 136 144 152 160]\n",
      " [135 144 153 162 171 180]\n",
      " [150 160 170 180 190 200]]\n"
     ]
    }
   ],
   "source": [
    "hotmessoutnp = np.outer(hotmess, hotmess2)\n",
    "print('outer product: ',hotmessoutnp)"
   ]
  },
  {
   "cell_type": "code",
   "execution_count": 4,
   "metadata": {},
   "outputs": [
    {
     "name": "stdout",
     "output_type": "stream",
     "text": [
      "trace:  [ 75  96 119 144 171 200]\n",
      "sum:  805\n"
     ]
    }
   ],
   "source": [
    "hotmesstrace = np.diagonal(hotmessoutnp)\n",
    "print('trace: ',hotmesstrace)\n",
    "print('sum: ',hotmesstrace.sum())"
   ]
  },
  {
   "cell_type": "markdown",
   "metadata": {},
   "source": [
    "### Matrix Multiplication\n",
    "* Two matricies can be multiplied if their inner dimensions match (eg. 2x3 * 3x5 -> 2x5). The best rule for working with and mutliplying matricies is to remember (rows x columns). This applies to both the dimensions of a matrix (a 2x3 matrix has 2 rows and 3 columns) as well as multiplication (you multiply the rows of the first matrix by the columns of the second). \n",
    "\n",
    "* When multiplying two matricies of dimension (M x N)*(N x P) the resulting matrix is (M x P). The upper element of the reslting matrix is the inner (or dot) product of the first row of the first matrix and the first column of the second matrix\n",
    "\n",
    "![two matrices](https://wikimedia.org/api/rest_v1/media/math/render/svg/16b1644351bc2041175b19cbc65da03ef78130c7)\n",
    "\n",
    "![store product in matrix C](https://wikimedia.org/api/rest_v1/media/math/render/svg/00ac0c831c365b7424cc43239aae8cebea27c56c)\n",
    "\n",
    "![matrix multiply](https://wikimedia.org/api/rest_v1/media/math/render/svg/3cfeccef1c8c7e6da0ddf08daed8dbf3c6f50c5e)\n",
    "\n",
    "for i = 1, ..., n and j = 1, ..., p.\n",
    "\n",
    "1. Make two matrices of random numbers (A and B). A should be a 4x3 matrix and B should be a 3x4 matrix. Multiply A by B using (to a resulting matrix C) using:\n",
    "    1. a conventional for-loop\n",
    "    1. list comprehension\n",
    "    1. numpy operator\n",
    "    \n",
    "2. After you have C, pull out the upper quadrant using fancy indexing, and then replace the main diagonal (upper left to lower right) with 0s. "
   ]
  },
  {
   "cell_type": "code",
   "execution_count": 5,
   "metadata": {},
   "outputs": [
    {
     "name": "stdout",
     "output_type": "stream",
     "text": [
      "[[8 0 4]\n",
      " [1 0 9]\n",
      " [8 8 4]\n",
      " [9 5 4]]\n",
      "[[2 2 0 1]\n",
      " [7 5 1 1]\n",
      " [1 2 9 7]]\n"
     ]
    }
   ],
   "source": [
    "randC = np.random.rand(4,3)*10\n",
    "randD = np.random.rand(3,4)*10\n",
    "randC = randC.astype(int)\n",
    "randD = randD.astype(int)\n",
    "\n",
    "print(randC)\n",
    "print(randD)"
   ]
  },
  {
   "cell_type": "code",
   "execution_count": 6,
   "metadata": {},
   "outputs": [
    {
     "name": "stdout",
     "output_type": "stream",
     "text": [
      "[[20, 24, 36], [11, 20, 81], [76, 64, 44], [57, 51, 41]]\n"
     ]
    }
   ],
   "source": [
    "result = [] # final result\n",
    "for i in range(len(randC)):\n",
    "\n",
    "    row = [] # the new row in new matrix\n",
    "    for j in range(len(randD)):\n",
    "\n",
    "        product = 0 # the new element in the new row\n",
    "        for v in range(len(randC[i])):\n",
    "            product += randC[i][v] * randD[v][j]\n",
    "        row.append(product) # append sum of product into the new row\n",
    "\n",
    "    result.append(row) # append the new row into the final result\n",
    "\n",
    "\n",
    "print(result)"
   ]
  },
  {
   "cell_type": "code",
   "execution_count": 7,
   "metadata": {},
   "outputs": [
    {
     "name": "stdout",
     "output_type": "stream",
     "text": [
      "[[20, 24, 36, 36], [11, 20, 81, 64], [76, 64, 44, 44], [57, 51, 41, 42]]\n"
     ]
    }
   ],
   "source": [
    "matrix_mult2 = [[sum(a * b for a, b in zip(randC_row, randD_col))  \n",
    "                        for randD_col in zip(*randD)] \n",
    "                                for randC_row in randC] \n",
    "\n",
    "print(matrix_mult2)"
   ]
  },
  {
   "cell_type": "code",
   "execution_count": 8,
   "metadata": {},
   "outputs": [
    {
     "name": "stdout",
     "output_type": "stream",
     "text": [
      "Dot product using numpy: \n",
      " [[20 24 36 36]\n",
      " [11 20 81 64]\n",
      " [76 64 44 44]\n",
      " [57 51 41 42]]\n"
     ]
    }
   ],
   "source": [
    "np_dot_product = np.dot(randC, randD)\n",
    "print('Dot product using numpy: \\n', np_dot_product)"
   ]
  },
  {
   "cell_type": "code",
   "execution_count": 9,
   "metadata": {},
   "outputs": [
    {
     "name": "stdout",
     "output_type": "stream",
     "text": [
      "[[36 36]\n",
      " [81 64]]\n"
     ]
    }
   ],
   "source": [
    "mat = np_dot_product[[0,1]][:,[2,3]]\n",
    "print(mat)"
   ]
  },
  {
   "cell_type": "code",
   "execution_count": 10,
   "metadata": {},
   "outputs": [
    {
     "name": "stdout",
     "output_type": "stream",
     "text": [
      "[[ 0 36]\n",
      " [81  0]]\n"
     ]
    }
   ],
   "source": [
    "diag_z = mat.copy()\n",
    "\n",
    "for i in range(len(diag_z)):\n",
    "    diag_z[i][i] = 0\n",
    "\n",
    "print(diag_z)"
   ]
  }
 ],
 "metadata": {
  "kernelspec": {
   "display_name": "Python 3",
   "language": "python",
   "name": "python3"
  },
  "language_info": {
   "codemirror_mode": {
    "name": "ipython",
    "version": 3
   },
   "file_extension": ".py",
   "mimetype": "text/x-python",
   "name": "python",
   "nbconvert_exporter": "python",
   "pygments_lexer": "ipython3",
   "version": "3.6.6"
  }
 },
 "nbformat": 4,
 "nbformat_minor": 2
}
